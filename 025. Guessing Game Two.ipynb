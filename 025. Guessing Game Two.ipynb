{
 "cells": [
  {
   "cell_type": "code",
   "execution_count": 6,
   "id": "2f184443",
   "metadata": {},
   "outputs": [
    {
     "name": "stdout",
     "output_type": "stream",
     "text": [
      "(Computer) My guess is: 21\n",
      "\n",
      "Is it correct number: yes\n",
      "(Computer) Try me next time human!\n",
      "Do you want to play again?: yes\n",
      "(Computer) My guess is: 55\n",
      "\n",
      "Is it correct number: no\n",
      "\n",
      "Was it too high or too low? (too high = th, too low = tl): tl\n",
      "(Computer) My guess is: 57\n",
      "\n",
      "Is it correct number: yes\n",
      "(Computer) Try me next time human!\n",
      "Do you want to play again?: no\n"
     ]
    }
   ],
   "source": [
    "import random \n",
    "\n",
    "game_on = True\n",
    "\n",
    "y_low = 0\n",
    "y_high = 100\n",
    "\n",
    "while game_on:\n",
    "    \n",
    "\n",
    "    x = random.randint(y_low,y_high)\n",
    "    print(f\"(Computer) My guess is: {str(x)}\")\n",
    "    \n",
    "    user_ = input(\"\\nIs it correct number: \")\n",
    "    \n",
    "    \n",
    "    \n",
    "    if user_ == \"yes\":\n",
    "        print(\"(Computer) Try me next time human!\")\n",
    "        user_again = input(\"Do you want to play again?: \")\n",
    "        if user_again == 'no':\n",
    "            game_on = False\n",
    "\n",
    "    if user_ == \"no\": \n",
    "        user_ = input(\"\\nWas it too high or too low? (too high = th, too low = tl): \")\n",
    "\n",
    "        if user_ == \"th\": \n",
    "            y_high = x - 1 \n",
    "        else: \n",
    "            y_low = x + 1 \n",
    "                \n",
    "    "
   ]
  },
  {
   "cell_type": "code",
   "execution_count": null,
   "id": "f644c77b",
   "metadata": {},
   "outputs": [],
   "source": []
  }
 ],
 "metadata": {
  "kernelspec": {
   "display_name": "Python 3 (ipykernel)",
   "language": "python",
   "name": "python3"
  },
  "language_info": {
   "codemirror_mode": {
    "name": "ipython",
    "version": 3
   },
   "file_extension": ".py",
   "mimetype": "text/x-python",
   "name": "python",
   "nbconvert_exporter": "python",
   "pygments_lexer": "ipython3",
   "version": "3.9.7"
  }
 },
 "nbformat": 4,
 "nbformat_minor": 5
}
