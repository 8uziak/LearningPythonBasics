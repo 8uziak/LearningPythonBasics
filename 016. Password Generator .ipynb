{
 "cells": [
  {
   "cell_type": "code",
   "execution_count": null,
   "id": "9afa8165",
   "metadata": {},
   "outputs": [
    {
     "name": "stdout",
     "output_type": "stream",
     "text": [
      "How long do you want your password to be?: 10\n",
      "Your new password: 4qBu86eGVH\n",
      "\n",
      "Are you satisfied? (Y/N): n\n",
      "How long do you want your password to be?: 10\n",
      "Your new password: zmNKpXEb7c\n",
      "\n",
      "Are you satisfied? (Y/N): n\n",
      "How long do you want your password to be?: 10\n",
      "Your new password: dZS6pMuBj2\n"
     ]
    }
   ],
   "source": [
    "import random\n",
    "import string \n",
    "\n",
    "new_password = ''\n",
    "\n",
    "pas_generator = True\n",
    "\n",
    "while pas_generator:\n",
    "    rand_list = list(string.ascii_letters + string.digits)\n",
    "    random.shuffle(rand_list)\n",
    "    pass_len = int(input(\"How long do you want your password to be?: \"))\n",
    "    x = 0 \n",
    "    for i in rand_list: \n",
    "            new_password += i\n",
    "            x += 1\n",
    "        \n",
    "    print(f'Your new password: {new_password[:pass_len]}')\n",
    "    y_or_no = input(\"\\nAre you satisfied? (Y/N): \")\n",
    "    if y_or_no.lower() == \"y\":\n",
    "        pas_generator = False\n",
    "    else: \n",
    "        new_password = ''\n",
    "        \n",
    "\n",
    "            \n",
    "        \n",
    "\n",
    "    "
   ]
  },
  {
   "cell_type": "code",
   "execution_count": null,
   "id": "bccbe89f",
   "metadata": {},
   "outputs": [],
   "source": []
  },
  {
   "cell_type": "code",
   "execution_count": null,
   "id": "715266e4",
   "metadata": {},
   "outputs": [],
   "source": []
  }
 ],
 "metadata": {
  "kernelspec": {
   "display_name": "Python 3 (ipykernel)",
   "language": "python",
   "name": "python3"
  },
  "language_info": {
   "codemirror_mode": {
    "name": "ipython",
    "version": 3
   },
   "file_extension": ".py",
   "mimetype": "text/x-python",
   "name": "python",
   "nbconvert_exporter": "python",
   "pygments_lexer": "ipython3",
   "version": "3.9.7"
  }
 },
 "nbformat": 4,
 "nbformat_minor": 5
}
