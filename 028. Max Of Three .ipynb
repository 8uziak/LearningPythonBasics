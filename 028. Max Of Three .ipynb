{
 "cells": [
  {
   "cell_type": "code",
   "execution_count": 13,
   "id": "0bcd6401",
   "metadata": {},
   "outputs": [
    {
     "name": "stdout",
     "output_type": "stream",
     "text": [
      "Write 3 numbers to let the program point the biggest one: 453 212 111\n",
      "453\n"
     ]
    }
   ],
   "source": [
    "user_ = input(\"Write 3 numbers to let the program point the biggest one: \")\n",
    "user_ = list(user_)\n",
    "\n",
    "n = ''\n",
    "n_list = []\n",
    "\n",
    "for i in user_:\n",
    "    if i != ' ':\n",
    "        n += i\n",
    "    else:\n",
    "        n_list.append(n)\n",
    "        n = ''\n",
    "    \n",
    "n_list.append(n)\n",
    "\n",
    "print(max(n_list))\n"
   ]
  },
  {
   "cell_type": "code",
   "execution_count": null,
   "id": "8c772f1b",
   "metadata": {},
   "outputs": [],
   "source": []
  },
  {
   "cell_type": "code",
   "execution_count": null,
   "id": "c7c788e4",
   "metadata": {},
   "outputs": [],
   "source": []
  }
 ],
 "metadata": {
  "kernelspec": {
   "display_name": "Python 3 (ipykernel)",
   "language": "python",
   "name": "python3"
  },
  "language_info": {
   "codemirror_mode": {
    "name": "ipython",
    "version": 3
   },
   "file_extension": ".py",
   "mimetype": "text/x-python",
   "name": "python",
   "nbconvert_exporter": "python",
   "pygments_lexer": "ipython3",
   "version": "3.9.7"
  }
 },
 "nbformat": 4,
 "nbformat_minor": 5
}
