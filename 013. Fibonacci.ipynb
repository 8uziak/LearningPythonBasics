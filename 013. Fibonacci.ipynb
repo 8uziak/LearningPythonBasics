{
 "cells": [
  {
   "cell_type": "code",
   "execution_count": 7,
   "id": "5c36574a",
   "metadata": {},
   "outputs": [
    {
     "name": "stdout",
     "output_type": "stream",
     "text": [
      "How many numbers do you want to have in Fibbonacci list 8\n",
      "[1, 1, 2, 3, 5, 8, 13, 21]\n"
     ]
    }
   ],
   "source": [
    "num = int(input(\"How many numbers do you want to have in Fibbonacci list \"))\n",
    "\n",
    "\n",
    "if num == 1:\n",
    "    print([1])\n",
    "elif num != 1 and num > 1:\n",
    "    b = [1,1]\n",
    "    while len(b) < num: \n",
    "        c = b[-2] + b[-1]\n",
    "        b.append(c)\n",
    "\n",
    "print(b)"
   ]
  },
  {
   "cell_type": "code",
   "execution_count": null,
   "id": "65d38bdf",
   "metadata": {},
   "outputs": [],
   "source": []
  },
  {
   "cell_type": "code",
   "execution_count": null,
   "id": "25a42161",
   "metadata": {},
   "outputs": [],
   "source": []
  }
 ],
 "metadata": {
  "kernelspec": {
   "display_name": "Python 3 (ipykernel)",
   "language": "python",
   "name": "python3"
  },
  "language_info": {
   "codemirror_mode": {
    "name": "ipython",
    "version": 3
   },
   "file_extension": ".py",
   "mimetype": "text/x-python",
   "name": "python",
   "nbconvert_exporter": "python",
   "pygments_lexer": "ipython3",
   "version": "3.9.7"
  }
 },
 "nbformat": 4,
 "nbformat_minor": 5
}
