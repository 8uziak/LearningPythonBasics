{
 "cells": [
  {
   "cell_type": "code",
   "execution_count": 14,
   "id": "a3fd7218",
   "metadata": {},
   "outputs": [
    {
     "name": "stdout",
     "output_type": "stream",
     "text": [
      "7 is overlapping\n",
      "13 is overlapping\n",
      "19 is overlapping\n",
      "23 is overlapping\n",
      "31 is overlapping\n",
      "79 is overlapping\n",
      "97 is overlapping\n",
      "103 is overlapping\n",
      "109 is overlapping\n",
      "139 is overlapping\n",
      "167 is overlapping\n",
      "193 is overlapping\n",
      "239 is overlapping\n",
      "263 is overlapping\n",
      "293 is overlapping\n",
      "313 is overlapping\n",
      "331 is overlapping\n",
      "367 is overlapping\n",
      "379 is overlapping\n",
      "383 is overlapping\n",
      "397 is overlapping\n",
      "409 is overlapping\n",
      "487 is overlapping\n",
      "563 is overlapping\n",
      "617 is overlapping\n",
      "653 is overlapping\n",
      "673 is overlapping\n",
      "683 is overlapping\n",
      "709 is overlapping\n",
      "739 is overlapping\n",
      "761 is overlapping\n",
      "863 is overlapping\n",
      "881 is overlapping\n",
      "907 is overlapping\n",
      "937 is overlapping\n",
      "\n",
      "There are 35 numbers that overlap\n"
     ]
    }
   ],
   "source": [
    "with open('nnnnnn.txt', 'r') as open_file1:\n",
    "    file1 = open_file1.read().split()\n",
    "    \n",
    "    \n",
    "with open('mmmm.txt', 'r') as open_file2:\n",
    "    file2 = open_file2.read().split()\n",
    "    \n",
    "n = 0 \n",
    "    \n",
    "for i in file1:\n",
    "    for j in file2:\n",
    "        if i == j:\n",
    "            print(f'{i} is overlapping')\n",
    "            n += 1\n",
    "print(f\"\\nThere are {n} numbers that overlap\")\n",
    "\n"
   ]
  },
  {
   "cell_type": "code",
   "execution_count": null,
   "id": "c6c1792c",
   "metadata": {},
   "outputs": [],
   "source": []
  }
 ],
 "metadata": {
  "kernelspec": {
   "display_name": "Python 3 (ipykernel)",
   "language": "python",
   "name": "python3"
  },
  "language_info": {
   "codemirror_mode": {
    "name": "ipython",
    "version": 3
   },
   "file_extension": ".py",
   "mimetype": "text/x-python",
   "name": "python",
   "nbconvert_exporter": "python",
   "pygments_lexer": "ipython3",
   "version": "3.9.7"
  }
 },
 "nbformat": 4,
 "nbformat_minor": 5
}
