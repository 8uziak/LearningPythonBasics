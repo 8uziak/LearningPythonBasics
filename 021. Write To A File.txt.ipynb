{
 "cells": [
  {
   "cell_type": "code",
   "execution_count": 1,
   "id": "ba6ad6de",
   "metadata": {},
   "outputs": [
    {
     "name": "stdout",
     "output_type": "stream",
     "text": [
      "Name your file.txt: xddddd\n"
     ]
    }
   ],
   "source": [
    "import requests \n",
    "from bs4 import BeautifulSoup\n",
    "\n",
    "page_url = 'https://www.nytimes.com'\n",
    "page = requests.get(page_url)\n",
    "\n",
    "soup = BeautifulSoup(page.content, 'html.parser')\n",
    "\n",
    "x = 0\n",
    "file = ''\n",
    "for title in soup.find_all('h3'):\n",
    "    x += 1\n",
    "    file += f\"\\nTitle {x}: \" + title.get_text()\n",
    "    \n",
    "\n",
    "name_file = input('Name your file.txt: ')\n",
    "\n",
    "with open(f'{name_file}.txt', 'w') as open_file:\n",
    "    open_file.write(file)"
   ]
  },
  {
   "cell_type": "code",
   "execution_count": null,
   "id": "095f20f9",
   "metadata": {},
   "outputs": [],
   "source": []
  },
  {
   "cell_type": "code",
   "execution_count": null,
   "id": "2d3a04ec",
   "metadata": {},
   "outputs": [],
   "source": []
  }
 ],
 "metadata": {
  "kernelspec": {
   "display_name": "Python 3 (ipykernel)",
   "language": "python",
   "name": "python3"
  },
  "language_info": {
   "codemirror_mode": {
    "name": "ipython",
    "version": 3
   },
   "file_extension": ".py",
   "mimetype": "text/x-python",
   "name": "python",
   "nbconvert_exporter": "python",
   "pygments_lexer": "ipython3",
   "version": "3.9.7"
  }
 },
 "nbformat": 4,
 "nbformat_minor": 5
}
