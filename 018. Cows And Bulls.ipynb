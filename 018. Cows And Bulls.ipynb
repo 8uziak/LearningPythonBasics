{
 "cells": [
  {
   "cell_type": "code",
   "execution_count": 7,
   "id": "0406277b",
   "metadata": {},
   "outputs": [
    {
     "name": "stdout",
     "output_type": "stream",
     "text": [
      "Welcome to Cows And Bulls game!\n",
      "If you want to end write: 'STOP' \n",
      "Place 4 digits into a bracket STOP\n"
     ]
    }
   ],
   "source": [
    "import random\n",
    "import math\n",
    "\n",
    "print(\"Welcome to Cows And Bulls game!\")\n",
    "print(\"If you want to end write: 'STOP' \")\n",
    "\n",
    "game_on = True\n",
    "\n",
    "n1 = range(1,5)\n",
    "\n",
    "while game_on: \n",
    "        \n",
    "    user_in = input(\"Place 4 digits into a bracket \")\n",
    "    \n",
    "    if user_in == \"STOP\":\n",
    "        game_on = False\n",
    "        \n",
    "    else: \n",
    "        \n",
    "        x = []\n",
    "\n",
    "        for i in n1:\n",
    "            x_random = random.randint(1,9)\n",
    "            x.append(x_random)    \n",
    "\n",
    "        n = 1000\n",
    "        y = []\n",
    "        for i in n1:\n",
    "            y.append(math.trunc((int(user_in) / n)%10))\n",
    "            if n > 1:\n",
    "                n /= 10\n",
    "\n",
    "        cow_point = 0\n",
    "        bull_point = 0\n",
    "\n",
    "        n = 0\n",
    "        for i in x:\n",
    "            if i == y[n]:\n",
    "                cow_point += 1\n",
    "                n += 1\n",
    "            else:\n",
    "                bull_point += 1\n",
    "                n += 1\n",
    "\n",
    "\n",
    "\n",
    "        print(f'cows: {cow_point}')\n",
    "        print(f'bulls: {bull_point}')\n",
    "        print(x)\n"
   ]
  },
  {
   "cell_type": "code",
   "execution_count": null,
   "id": "2128170f",
   "metadata": {},
   "outputs": [],
   "source": []
  },
  {
   "cell_type": "markdown",
   "id": "e19d52d2",
   "metadata": {},
   "source": [
    "    "
   ]
  },
  {
   "cell_type": "code",
   "execution_count": 2,
   "id": "284dc8e0",
   "metadata": {},
   "outputs": [
    {
     "name": "stdout",
     "output_type": "stream",
     "text": [
      "4\n"
     ]
    }
   ],
   "source": []
  },
  {
   "cell_type": "code",
   "execution_count": null,
   "id": "23ccaa6f",
   "metadata": {},
   "outputs": [],
   "source": []
  }
 ],
 "metadata": {
  "kernelspec": {
   "display_name": "Python 3 (ipykernel)",
   "language": "python",
   "name": "python3"
  },
  "language_info": {
   "codemirror_mode": {
    "name": "ipython",
    "version": 3
   },
   "file_extension": ".py",
   "mimetype": "text/x-python",
   "name": "python",
   "nbconvert_exporter": "python",
   "pygments_lexer": "ipython3",
   "version": "3.9.7"
  }
 },
 "nbformat": 4,
 "nbformat_minor": 5
}
