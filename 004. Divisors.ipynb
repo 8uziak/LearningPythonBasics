{
 "cells": [
  {
   "cell_type": "code",
   "execution_count": 4,
   "id": "0624f0f0",
   "metadata": {},
   "outputs": [
    {
     "name": "stdout",
     "output_type": "stream",
     "text": [
      "Choose your number: 145\n",
      "[1, 5, 29, 145]\n"
     ]
    }
   ],
   "source": [
    "x = int(input(\"Choose your number: \"))\n",
    "x_list = []\n",
    "div_x = list(range(1,x+1))\n",
    "for num in div_x:\n",
    "    if x % num == 0:\n",
    "        x_list.append(num)\n",
    "\n",
    "print(x_list)"
   ]
  },
  {
   "cell_type": "code",
   "execution_count": null,
   "id": "1ffce36c",
   "metadata": {},
   "outputs": [],
   "source": []
  },
  {
   "cell_type": "code",
   "execution_count": null,
   "id": "50ed8ab9",
   "metadata": {},
   "outputs": [],
   "source": []
  },
  {
   "cell_type": "code",
   "execution_count": null,
   "id": "52667e9e",
   "metadata": {},
   "outputs": [],
   "source": []
  }
 ],
 "metadata": {
  "kernelspec": {
   "display_name": "Python 3 (ipykernel)",
   "language": "python",
   "name": "python3"
  },
  "language_info": {
   "codemirror_mode": {
    "name": "ipython",
    "version": 3
   },
   "file_extension": ".py",
   "mimetype": "text/x-python",
   "name": "python",
   "nbconvert_exporter": "python",
   "pygments_lexer": "ipython3",
   "version": "3.9.7"
  }
 },
 "nbformat": 4,
 "nbformat_minor": 5
}
