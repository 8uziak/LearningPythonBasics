{
 "cells": [
  {
   "cell_type": "code",
   "execution_count": 39,
   "id": "2538e7c4",
   "metadata": {},
   "outputs": [
    {
     "name": "stdout",
     "output_type": "stream",
     "text": [
      "Choose your number to check if it matches with one number in a list: 1\n",
      "[2, 4, 2, 9, 1, 6, 2, 8]\n",
      "This number is in a list\n"
     ]
    }
   ],
   "source": [
    "import random \n",
    "\n",
    "ran_list = []\n",
    "user_inp = int(input(\"Choose your number to check if it matches with one number in a list: \"))\n",
    "\n",
    "for i in range(1,random.randint(5,10)):\n",
    "    x = random.randint(1,9)\n",
    "    ran_list.append(x)\n",
    "    \n",
    "print(ran_list)\n",
    "    \n",
    "if user_inp in ran_list:\n",
    "    print(\"This number is in a list\")\n",
    "else: \n",
    "    print(\"this number is not in a list\")\n"
   ]
  },
  {
   "cell_type": "code",
   "execution_count": 38,
   "id": "9f12777d",
   "metadata": {},
   "outputs": [
    {
     "name": "stdout",
     "output_type": "stream",
     "text": [
      "7\n"
     ]
    }
   ],
   "source": []
  },
  {
   "cell_type": "code",
   "execution_count": 43,
   "id": "3ff40782",
   "metadata": {},
   "outputs": [
    {
     "data": {
      "text/plain": [
       "0"
      ]
     },
     "execution_count": 43,
     "metadata": {},
     "output_type": "execute_result"
    }
   ],
   "source": []
  },
  {
   "cell_type": "code",
   "execution_count": null,
   "id": "3f876da7",
   "metadata": {},
   "outputs": [],
   "source": []
  }
 ],
 "metadata": {
  "kernelspec": {
   "display_name": "Python 3 (ipykernel)",
   "language": "python",
   "name": "python3"
  },
  "language_info": {
   "codemirror_mode": {
    "name": "ipython",
    "version": 3
   },
   "file_extension": ".py",
   "mimetype": "text/x-python",
   "name": "python",
   "nbconvert_exporter": "python",
   "pygments_lexer": "ipython3",
   "version": "3.9.7"
  }
 },
 "nbformat": 4,
 "nbformat_minor": 5
}
