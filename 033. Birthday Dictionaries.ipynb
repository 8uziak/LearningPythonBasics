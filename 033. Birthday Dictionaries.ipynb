{
 "cells": [
  {
   "cell_type": "code",
   "execution_count": 4,
   "id": "bc2275f1",
   "metadata": {},
   "outputs": [
    {
     "name": "stdout",
     "output_type": "stream",
     "text": [
      ">>> Welcome to the birthday dictionary. We know the birthdays of:\n",
      "Albert Einstein\n",
      "Benjamin Franklin\n",
      "Ada Lovelace\n",
      ">>> Who's birthday do you want to look up? Albert Einstein\n",
      "03/14/1879\n"
     ]
    }
   ],
   "source": [
    "\"\"\"\n",
    "JSON.txt file\n",
    "{\n",
    "    \"Albert Einstein\": \"03/14/1879\",\n",
    "    \"Ada Byron Lovelace\": \"12/10/1815\",\n",
    "    \"Benjamin Franklin\": \"01/17/1706\"\n",
    "}\n",
    "\"\"\"\n",
    "\n",
    "import json\n",
    "\n",
    "print(\">>> Welcome to the birthday dictionary. We know the birthdays of:\")\n",
    "print('Albert Einstein')\n",
    "print('Benjamin Franklin')\n",
    "print('Ada Lovelace')\n",
    "user_ = input(\">>> Who's birthday do you want to look up? \") \n",
    "\n",
    "with open('JSON.txt','r') as f:\n",
    "    \n",
    "    info = json.load(f)\n",
    "    \n",
    "    print(info[user_])"
   ]
  },
  {
   "cell_type": "code",
   "execution_count": null,
   "id": "617ee0a5",
   "metadata": {},
   "outputs": [],
   "source": []
  },
  {
   "cell_type": "code",
   "execution_count": null,
   "id": "362021d1",
   "metadata": {},
   "outputs": [],
   "source": []
  }
 ],
 "metadata": {
  "kernelspec": {
   "display_name": "Python 3 (ipykernel)",
   "language": "python",
   "name": "python3"
  },
  "language_info": {
   "codemirror_mode": {
    "name": "ipython",
    "version": 3
   },
   "file_extension": ".py",
   "mimetype": "text/x-python",
   "name": "python",
   "nbconvert_exporter": "python",
   "pygments_lexer": "ipython3",
   "version": "3.9.7"
  }
 },
 "nbformat": 4,
 "nbformat_minor": 5
}
