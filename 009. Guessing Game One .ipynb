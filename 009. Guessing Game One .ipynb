{
 "cells": [
  {
   "cell_type": "code",
   "execution_count": 11,
   "id": "8958f6d8",
   "metadata": {},
   "outputs": [
    {
     "name": "stdout",
     "output_type": "stream",
     "text": [
      "Choose your number from 1 to 9: 2\n",
      "\n",
      "Too low. Try again.\n",
      "Choose your number from 1 to 9: 3\n",
      "\n",
      "Too low. Try again.\n",
      "Choose your number from 1 to 9: 4\n",
      "\n",
      "Too low. Try again.\n",
      "Choose your number from 1 to 9: 5\n",
      "\n",
      "Too low. Try again.\n",
      "Choose your number from 1 to 9: 6\n",
      "\n",
      "Too low. Try again.\n",
      "Choose your number from 1 to 9: 7\n",
      "\n",
      "Nice it's correct answer!\n"
     ]
    }
   ],
   "source": [
    "from random import randint\n",
    "\n",
    "x = randint(1,9)\n",
    "\n",
    "while True: \n",
    "    guess_num = int(input(\"Choose your number from 1 to 9: \"))\n",
    "    if guess_num == x:\n",
    "        print(\"\\nNice it's correct answer!\")\n",
    "        break\n",
    "    elif guess_num < x: \n",
    "        print(\"\\nToo low. Try again.\")\n",
    "    else:\n",
    "        print(\"\\nToo high. Try again\")"
   ]
  },
  {
   "cell_type": "code",
   "execution_count": null,
   "id": "db67f003",
   "metadata": {},
   "outputs": [],
   "source": []
  }
 ],
 "metadata": {
  "kernelspec": {
   "display_name": "Python 3 (ipykernel)",
   "language": "python",
   "name": "python3"
  },
  "language_info": {
   "codemirror_mode": {
    "name": "ipython",
    "version": 3
   },
   "file_extension": ".py",
   "mimetype": "text/x-python",
   "name": "python",
   "nbconvert_exporter": "python",
   "pygments_lexer": "ipython3",
   "version": "3.9.7"
  }
 },
 "nbformat": 4,
 "nbformat_minor": 5
}
