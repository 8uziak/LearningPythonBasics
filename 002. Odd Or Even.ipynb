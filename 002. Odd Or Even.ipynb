{
 "cells": [
  {
   "cell_type": "code",
   "execution_count": 8,
   "id": "a262f91f",
   "metadata": {},
   "outputs": [
    {
     "name": "stdout",
     "output_type": "stream",
     "text": [
      "Choose your number: 1\n",
      "It's odd number\n"
     ]
    }
   ],
   "source": [
    "num_input = int(input(\"Choose your number: \"))\n",
    "if num_input % 2 == 0 and num_input % 4 == 0:\n",
    "    print(\"It's even number and it is diviable by 4\")\n",
    "elif num_input % 2 == 0: \n",
    "    print(\"It's even number\")\n",
    "else:\n",
    "    print(\"It's odd number\")"
   ]
  },
  {
   "cell_type": "code",
   "execution_count": null,
   "id": "0903c5df",
   "metadata": {},
   "outputs": [],
   "source": []
  },
  {
   "cell_type": "code",
   "execution_count": null,
   "id": "8aca59c0",
   "metadata": {},
   "outputs": [],
   "source": []
  }
 ],
 "metadata": {
  "kernelspec": {
   "display_name": "Python 3 (ipykernel)",
   "language": "python",
   "name": "python3"
  },
  "language_info": {
   "codemirror_mode": {
    "name": "ipython",
    "version": 3
   },
   "file_extension": ".py",
   "mimetype": "text/x-python",
   "name": "python",
   "nbconvert_exporter": "python",
   "pygments_lexer": "ipython3",
   "version": "3.9.7"
  }
 },
 "nbformat": 4,
 "nbformat_minor": 5
}
