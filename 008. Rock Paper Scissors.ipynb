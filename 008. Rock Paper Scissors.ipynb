{
 "cells": [
  {
   "cell_type": "code",
   "execution_count": 5,
   "id": "d8df4392",
   "metadata": {},
   "outputs": [
    {
     "name": "stdout",
     "output_type": "stream",
     "text": [
      "Hello to Rock Paper Scissors game!\n",
      "Player1: rock\n",
      "Player2: rock\n",
      "It's a draw\n",
      "Do you want to play game again?no\n"
     ]
    }
   ],
   "source": [
    "game_on = True\n",
    "print(\"Hello to Rock Paper Scissors game!\")\n",
    "\n",
    "while game_on:\n",
    "    \n",
    "    p_1 = input(\"Player1: \")\n",
    "    p_2 = input(\"Player2: \")\n",
    "    if p_1.lower() and p_2.lower() not in ('rock','paper','scissors'):\n",
    "        print(\"Wrong! Choose one of the following: 'Rock', 'Paper' or 'Scissors'\")\n",
    "    else: \n",
    "        if p_1.lower() == p_2.lower():\n",
    "            print(\"It's a draw\")\n",
    "        elif (p_1.lower() == 'rock' and p_2.lower() == 'scissors') or (p_1.lower() == 'paper' and p_2.lower() == 'rock') or (p_1.lower() == 'scissors' and p_2.lower() == 'paper'):\n",
    "            print('\\nPlayer r1 wins!')\n",
    "        else:\n",
    "            print('\\nPlayer 2 wins!')\n",
    "    \n",
    "    game = input(\"Do you want to play game again?\")\n",
    "    if game.lower() == 'no':\n",
    "        game_on = False\n",
    "    "
   ]
  },
  {
   "cell_type": "code",
   "execution_count": null,
   "id": "679d52db",
   "metadata": {},
   "outputs": [],
   "source": []
  },
  {
   "cell_type": "code",
   "execution_count": null,
   "id": "018d938b",
   "metadata": {},
   "outputs": [],
   "source": []
  }
 ],
 "metadata": {
  "kernelspec": {
   "display_name": "Python 3 (ipykernel)",
   "language": "python",
   "name": "python3"
  },
  "language_info": {
   "codemirror_mode": {
    "name": "ipython",
    "version": 3
   },
   "file_extension": ".py",
   "mimetype": "text/x-python",
   "name": "python",
   "nbconvert_exporter": "python",
   "pygments_lexer": "ipython3",
   "version": "3.9.7"
  }
 },
 "nbformat": 4,
 "nbformat_minor": 5
}
