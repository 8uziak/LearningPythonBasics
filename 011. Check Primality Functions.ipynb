{
 "cells": [
  {
   "cell_type": "code",
   "execution_count": 8,
   "id": "140c4226",
   "metadata": {},
   "outputs": [
    {
     "name": "stdout",
     "output_type": "stream",
     "text": [
      "Choose a number: 7\n",
      "7 is a prime number\n"
     ]
    }
   ],
   "source": [
    "x = int(input(\"Choose a number: \"))\n",
    "\n",
    "if x > 1:\n",
    "    for i in range(2,x):\n",
    "        if x % i == 0:\n",
    "            print(f\"{x} is not a prime number\")\n",
    "            break\n",
    "    else:\n",
    "        print(f\"{x} is a prime number\")\n",
    "        \n",
    "else:\n",
    "    print(f\"{x} is not a prime number\")"
   ]
  },
  {
   "cell_type": "code",
   "execution_count": null,
   "id": "ffd6c58c",
   "metadata": {},
   "outputs": [],
   "source": []
  }
 ],
 "metadata": {
  "kernelspec": {
   "display_name": "Python 3 (ipykernel)",
   "language": "python",
   "name": "python3"
  },
  "language_info": {
   "codemirror_mode": {
    "name": "ipython",
    "version": 3
   },
   "file_extension": ".py",
   "mimetype": "text/x-python",
   "name": "python",
   "nbconvert_exporter": "python",
   "pygments_lexer": "ipython3",
   "version": "3.9.7"
  }
 },
 "nbformat": 4,
 "nbformat_minor": 5
}
